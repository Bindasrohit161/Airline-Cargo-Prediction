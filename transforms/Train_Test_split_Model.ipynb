{
 "cells": [
  {
   "cell_type": "code",
   "execution_count": 2,
   "id": "400c8c3f-9b4e-486c-9220-8ba407c65695",
   "metadata": {},
   "outputs": [
    {
     "name": "stdout",
     "output_type": "stream",
     "text": [
      "Requirement already satisfied: scikit-learn in /opt/conda/lib/python3.10/site-packages (1.2.0)\n",
      "Requirement already satisfied: scipy>=1.3.2 in /opt/conda/lib/python3.10/site-packages (from scikit-learn) (1.9.3)\n",
      "Requirement already satisfied: numpy>=1.17.3 in /opt/conda/lib/python3.10/site-packages (from scikit-learn) (1.23.5)\n",
      "Requirement already satisfied: joblib>=1.1.1 in /opt/conda/lib/python3.10/site-packages (from scikit-learn) (1.2.0)\n",
      "Requirement already satisfied: threadpoolctl>=2.0.0 in /opt/conda/lib/python3.10/site-packages (from scikit-learn) (3.1.0)\n"
     ]
    }
   ],
   "source": [
    "import sys\n",
    "# sys.path.append('/Users/bernardoloureiro/template-lib')\n",
    "\n",
    "from utils.notebookhelpers.helpers import Helpers\n",
    "from utils.dtos.templateOutputCollection import TemplateOutputCollection\n",
    "from utils.dtos.variable import Metadata\n",
    "from utils.dtos.templateOutput import TemplateOutput\n",
    "from utils.dtos.templateOutput import OutputType\n",
    "from utils.dtos.templateOutput import ChartType\n",
    "import logging\n",
    "import os\n",
    "from dateutil import parser\n",
    "logging.basicConfig(format='%(levelname)s:%(message)s', level=logging.INFO)\n",
    "!pip install scikit-learn\n",
    "# !pip install shapely\n",
    "# !pip install shap-hypetune\n",
    "# !pip install xgboost\n",
    "import numpy as np\n",
    "import pandas as pd\n",
    "from sklearn.model_selection import train_test_split\n",
    "from sklearn import metrics\n",
    "from sklearn.ensemble import RandomForestRegressor,GradientBoostingClassifier\n",
    "from sklearn.metrics import classification_report, confusion_matrix,precision_score\n",
    "from sklearn.preprocessing import StandardScaler\n",
    "# import shap\n",
    "# from shaphypetune import BoostSearch, BoostBoruta, BoostRFE, BoostRFA\n",
    "from sklearn.metrics import roc_auc_score\n",
    "# from scipy import stats\n",
    "# from xgboost import XGBClassifier\n",
    "# from sklearn.svm import SVC\n",
    "from sklearn.model_selection import GridSearchCV\n",
    "import pickle\n",
    "from sklearn.preprocessing import StandardScaler"
   ]
  },
  {
   "cell_type": "code",
   "execution_count": 3,
   "id": "1a20074c-c1b5-4382-8ca2-45bfb304b4dd",
   "metadata": {},
   "outputs": [],
   "source": [
    "#Getting the context\n",
    "contextId = 'Airline_cargo'\n",
    "context = Helpers.getOrCreateContext(contextId=contextId, localVars=locals())\n",
    "\n",
    "inputDatasetParameter=Helpers.get_or_create_input_dataset(\n",
    "    name=\"inputDataset3\",\n",
    "    metadata=Metadata(input_name='cleanedd data', is_required=True, tooltip='output transformation'),\n",
    "    local_context=locals()\n",
    ")\n",
    "\n",
    "\n",
    "\n",
    "# inputDatasetParameter = Helpers.get_or_create_input_dataset(\n",
    "#     name=\"inputDataset2\",\n",
    "#     metadata=Metadata(input_name='Input Dataset', is_required=True, tooltip='Dataset to apply the transformation'),\n",
    "#     local_context=locals())\n",
    "\n",
    "\n",
    "\n",
    "Passengers_In_Parameter = Helpers.get_or_create_input_var(\n",
    "    name=\"Passengers_In\",\n",
    "    metadata=Metadata(input_name=\"Passengers_In\", is_required=True, tooltip=\"All Passengers_In\", multiple=False, datatypes=['STRING'],options=['FIELDS', 'CONSTANT'], datasets=['inputDataset']),\n",
    "    local_context=locals()\n",
    ")\n",
    "\n",
    "\n",
    "Freight_In_tonnes_Parameter = Helpers.get_or_create_input_var(\n",
    "    name=\"Freight_In_tonnes\",\n",
    "    metadata=Metadata(input_name=\"Freight_In_tonnes\", is_required=True, tooltip=\"Freight_In_(tonnes)\", multiple=False, options=['FIELDS', 'CONSTANT'], datasets=['inputDataset']),\n",
    "    local_context=locals()\n",
    ")\n",
    "\n",
    "\n",
    "Mail_In_tonnes_Parameter = Helpers.get_or_create_input_var(\n",
    "    name=\"Mail_In_tonnes\",\n",
    "    metadata=Metadata(input_name=\"Mail_In_tonnes\", is_required=True, tooltip=\"All Departures_On_Time\", multiple=False, options=['FIELDS', 'CONSTANT'], datasets=['inputDataset']),\n",
    "    local_context=locals()\n",
    ")\n",
    "\n",
    "\n",
    "Passengers_Out_Parameter = Helpers.get_or_create_input_var(\n",
    "    name=\"Passengers_Out\",\n",
    "    metadata=Metadata(input_name=\"Passengers_Out\", is_required=True, tooltip=\"All Departures_On_Time\", multiple=False, options=['FIELDS', 'CONSTANT'], datasets=['inputDataset']),\n",
    "    local_context=locals()\n",
    ")\n",
    "\n",
    "\n",
    "\n",
    "Freight_Out_tonnes_Parameter = Helpers.get_or_create_input_var(\n",
    "    name=\"Freight_Out_tonnes\",\n",
    "    metadata=Metadata(input_name=\"Freight_Out_tonnes\", is_required=True, tooltip=\"All Departures_On_Time\", multiple=False, options=['FIELDS', 'CONSTANT'], datasets=['inputDataset']),\n",
    "    local_context=locals()\n",
    ")\n",
    "\n",
    "Mail_Out_tonnes_Parameter = Helpers.get_or_create_input_var(\n",
    "    name=\"Mail_Out_tonnes\",\n",
    "    metadata=Metadata(input_name=\"Mail_Out_tonnes\", is_required=True, tooltip=\"All Departures_On_Time\", multiple=False, options=['FIELDS', 'CONSTANT'], datasets=['inputDataset']),\n",
    "    local_context=locals()\n",
    ")\n",
    "\n",
    "Passengers_Total_Parameter = Helpers.get_or_create_input_var(\n",
    "    name=\"Passengers_Total\",\n",
    "    metadata=Metadata(input_name=\"Passengers_Total\", is_required=True, tooltip=\"All Departures_On_Time\", multiple=False, options=['FIELDS', 'CONSTANT'], datasets=['inputDataset']),\n",
    "    local_context=locals()\n",
    ")\n",
    "\n",
    "\n",
    "\n",
    "Freight_Total_tonnes_Parameter = Helpers.get_or_create_input_var(\n",
    "    name=\"Freight_Total_tonnes\",\n",
    "    metadata=Metadata(input_name=\"Freight_Total_tonnes\", is_required=True, tooltip=\"All Departures_On_Time\", multiple=False, options=['FIELDS', 'CONSTANT'], datasets=['inputDataset']),\n",
    "    local_context=locals()\n",
    ")\n",
    "\n",
    "\n",
    "\n",
    "Mail_Total_tonnes_Parameter = Helpers.get_or_create_input_var(\n",
    "    name=\"Mail_Total_tonnes\",\n",
    "    metadata=Metadata(input_name=\"Mail_Total_tonnes\", is_required=True, tooltip=\"All Departures_On_Time\", multiple=False, options=['FIELDS', 'CONSTANT'], datasets=['inputDataset']),\n",
    "    local_context=locals()\n",
    ")\n",
    "\n",
    "\n",
    "\n",
    "\n",
    "Btwness_Parameter = Helpers.get_or_create_input_var(\n",
    "    name=\"Btwness\",\n",
    "    metadata=Metadata(input_name=\"Btwness\", is_required=True, tooltip=\"Output column\", multiple=False,\n",
    "),\n",
    "    local_context=locals()\n",
    ")\n",
    "\n",
    "\n",
    "closeness_Parameter = Helpers.get_or_create_input_var(\n",
    "    name=\"closeness\",\n",
    "    metadata=Metadata(input_name=\"closeness\", is_required=True, tooltip=\"Output column\", multiple=False, \n",
    "),\n",
    "    local_context=locals()\n",
    ") \n",
    "\n",
    "\n",
    "Deg_centrality_Parameter = Helpers.get_or_create_input_var(\n",
    "    name=\"Deg_centrality\",\n",
    "    metadata=Metadata(input_name=\"Deg_centrality\", is_required=True, tooltip=\"Output column\", multiple=False, \n",
    "),\n",
    "    local_context=locals()\n",
    ") \n",
    "\n",
    "Freight_In_Out_prct_Parameter = Helpers.get_or_create_input_var(\n",
    "    name=\"Freight_In_Out_prct\",\n",
    "    metadata=Metadata(input_name=\"Freight_In_Out_prct\", is_required=True, tooltip=\"Output column\", multiple=False, \n",
    "),\n",
    "    local_context=locals()\n",
    ") \n",
    "\n",
    "\n",
    "\n",
    "Passengers_In_Out_prct_Parameter = Helpers.get_or_create_input_var(\n",
    "    name=\"Passengers_In_Out_prct\",\n",
    "    metadata=Metadata(input_name=\"Passengers_In_Out_prct\", is_required=True, tooltip=\"Output column\", multiple=False, \n",
    "),\n",
    "    local_context=locals()\n",
    ") \n",
    "\n",
    "\n",
    "Mail_In_Out_prct_Parameter = Helpers.get_or_create_input_var(\n",
    "    name=\"Mail_In_Out_prct\",\n",
    "    metadata=Metadata(input_name=\"Mail_In_Out_prct\", is_required=True, tooltip=\"Output column\", multiple=False, \n",
    "),\n",
    "    local_context=locals()\n",
    ") \n",
    "\n",
    "\n",
    "\n",
    "W_Passengers_In_Parameter = Helpers.get_or_create_input_var(\n",
    "    name=\"W_Passengers_In\",\n",
    "    metadata=Metadata(input_name=\"W_Passengers_In\", is_required=True, tooltip=\"Output column\", multiple=False, \n",
    "),\n",
    "    local_context=locals()\n",
    ") \n",
    "\n",
    "\n",
    "W_Passengers_Out_Parameter = Helpers.get_or_create_input_var(\n",
    "    name=\"W_Passengers_Out\",\n",
    "    metadata=Metadata(input_name=\"W_Passengers_Out\", is_required=True, tooltip=\"Output column\", multiple=False, \n",
    "),\n",
    "    local_context=locals()\n",
    ") \n",
    "\n",
    "\n",
    "W_Passengers_Total_Parameter = Helpers.get_or_create_input_var(\n",
    "    name=\"W_Passengers_Total\",\n",
    "    metadata=Metadata(input_name=\"W_Passengers_Total\", is_required=True, tooltip=\"Output column\", multiple=False, \n",
    "),\n",
    "    local_context=locals()\n",
    ") \n",
    "\n",
    "\n",
    "flights_total_Parameter = Helpers.get_or_create_input_var(\n",
    "    name=\"flights_total\",\n",
    "    metadata=Metadata(input_name=\"flights_total\", is_required=True, tooltip=\"Output column\", multiple=False, \n",
    "),\n",
    "    local_context=locals()\n",
    ") \n",
    "\n",
    "Total_wt_Parameter = Helpers.get_or_create_input_var(\n",
    "    name=\"Total_wt\",\n",
    "    metadata=Metadata(input_name=\"Total_wt\", is_required=True, tooltip=\"Output column\", multiple=False, \n",
    "),\n",
    "    local_context=locals()\n",
    ") \n",
    "\n",
    "Avg_flight_wt_Parameter = Helpers.get_or_create_input_var(\n",
    "    name=\"Avg_flight_wt\",\n",
    "    metadata=Metadata(input_name=\"Avg_flight_wt\", is_required=True, tooltip=\"Output column\", multiple=False, \n",
    "),\n",
    "    local_context=locals()\n",
    ") \n",
    "\n",
    "\n",
    "\n",
    "\n",
    "\n",
    "\n",
    "\n",
    "\n",
    "\n",
    "\n",
    "\n",
    "\n",
    "outputDatasetParameter=Helpers.get_or_create_output_dataset(\n",
    " name=\"outputDataset3\",\n",
    "    metadata=Metadata(input_name='Xtrain', is_required=True, tooltip='Dataset name to be created after the transformation'),\n",
    "    local_context=locals()\n",
    ")\n",
    "\n",
    "\n",
    "#Model Save\n",
    "\n",
    "model_to_saveParameter = Helpers.get_or_create_input_var(\n",
    "    name=\"model_to_save\",\n",
    "    metadata=Metadata(input_name=\"RF cargo Model\", is_required=False, tooltip=\"If you want your model to be saved and be used on for prediction, it is required.\", multiple=False, datatypes=['STRING'], options=['CONSTANT']),\n",
    "    local_context=locals()\n",
    ")"
   ]
  },
  {
   "cell_type": "code",
   "execution_count": 4,
   "id": "7d3a14c6-7315-4c4a-af34-21732f577d62",
   "metadata": {},
   "outputs": [],
   "source": [
    "#Getting the parameters\n",
    "airline=inputDatasetParameter.value\n",
    "\n",
    "\n",
    "\n",
    "Passengers_In=    Passengers_In_Parameter.value\n",
    "Freight_In_tonnes=    Freight_In_tonnes_Parameter.value\n",
    "Mail_In_tonnes = Mail_In_tonnes_Parameter.value\n",
    "Passengers_Out = Passengers_Out_Parameter.value\n",
    "\n",
    "\n",
    "Freight_Out_tonnes = Freight_Out_tonnes_Parameter.value\n",
    "Mail_Out_tonnes=Mail_Out_tonnes_Parameter.value\n",
    "Freight_Total_tonnes =  Freight_Total_tonnes_Parameter.value\n",
    "\n",
    "Passengers_Total = Passengers_Total_Parameter.value\n",
    "Mail_Total_tonnes = Mail_Total_tonnes_Parameter.value\n",
    "\n",
    "Btwness = Btwness_Parameter.value\n",
    "closeness = closeness_Parameter.value\n",
    "Deg_centrality = Deg_centrality_Parameter.value\n",
    "\n",
    "Freight_In_Out_prct =     Freight_In_Out_prct_Parameter.value\n",
    "Passengers_In_Out_prct=    Passengers_In_Out_prct_Parameter.value\n",
    "Mail_In_Out_prct =    Mail_In_Out_prct_Parameter.value\n",
    "W_Passengers_In=    W_Passengers_In_Parameter.value\n",
    "W_Passengers_Out =    W_Passengers_Out_Parameter.value\n",
    "W_Passengers_Total =    W_Passengers_Total_Parameter.value\n",
    "flights_total=    flights_total_Parameter.value\n",
    "Total_wt =    Total_wt_Parameter.value\n",
    "Avg_flight_wt =    Avg_flight_wt_Parameter.value\n",
    "\n",
    "\n",
    "\n",
    "\n",
    "outputDataset3=outputDatasetParameter.value\n",
    "\n",
    "model_to_save=model_to_saveParameter.value\n"
   ]
  },
  {
   "cell_type": "code",
   "execution_count": 5,
   "id": "764adcb1-8d7c-45b6-b63b-251cf326654e",
   "metadata": {},
   "outputs": [],
   "source": [
    "airline =  Helpers.getEntityData(context, airline)"
   ]
  },
  {
   "cell_type": "code",
   "execution_count": 6,
   "id": "c692c6fb-cff5-49cb-9a69-57a3cfa7c336",
   "metadata": {},
   "outputs": [
    {
     "data": {
      "text/html": [
       "<div>\n",
       "<style scoped>\n",
       "    .dataframe tbody tr th:only-of-type {\n",
       "        vertical-align: middle;\n",
       "    }\n",
       "\n",
       "    .dataframe tbody tr th {\n",
       "        vertical-align: top;\n",
       "    }\n",
       "\n",
       "    .dataframe thead th {\n",
       "        text-align: right;\n",
       "    }\n",
       "</style>\n",
       "<table border=\"1\" class=\"dataframe\">\n",
       "  <thead>\n",
       "    <tr style=\"text-align: right;\">\n",
       "      <th></th>\n",
       "      <th>Deg_centrality</th>\n",
       "      <th>closeness</th>\n",
       "      <th>Btwness</th>\n",
       "      <th>Passengers_In</th>\n",
       "      <th>Freight_In_tonnes</th>\n",
       "      <th>Mail_In_tonnes</th>\n",
       "      <th>Passengers_Out</th>\n",
       "      <th>Freight_Out_tonnes</th>\n",
       "      <th>Mail_Out_tonnes</th>\n",
       "      <th>Passengers_Total</th>\n",
       "      <th>...</th>\n",
       "      <th>Freight_Total_tonnes</th>\n",
       "      <th>Freight_In_Out_prct</th>\n",
       "      <th>Passengers_In_Out_prct</th>\n",
       "      <th>Mail_In_Out_prct</th>\n",
       "      <th>W_Passengers_In</th>\n",
       "      <th>W_Passengers_Out</th>\n",
       "      <th>W_Passengers_Total</th>\n",
       "      <th>flights_total</th>\n",
       "      <th>Total_wt</th>\n",
       "      <th>Avg_flight_wt</th>\n",
       "    </tr>\n",
       "  </thead>\n",
       "  <tbody>\n",
       "    <tr>\n",
       "      <th>1</th>\n",
       "      <td>0.325359</td>\n",
       "      <td>0.44186</td>\n",
       "      <td>0.02568</td>\n",
       "      <td>6.0</td>\n",
       "      <td>0.0</td>\n",
       "      <td>0.0</td>\n",
       "      <td>16.0</td>\n",
       "      <td>18.7</td>\n",
       "      <td>0.0</td>\n",
       "      <td>22.0</td>\n",
       "      <td>...</td>\n",
       "      <td>18.7</td>\n",
       "      <td>0.0</td>\n",
       "      <td>-2.444444</td>\n",
       "      <td>0.0</td>\n",
       "      <td>0.408</td>\n",
       "      <td>1.088</td>\n",
       "      <td>1.496</td>\n",
       "      <td>0.048889</td>\n",
       "      <td>0.324436</td>\n",
       "      <td>6.625618</td>\n",
       "    </tr>\n",
       "    <tr>\n",
       "      <th>2</th>\n",
       "      <td>0.325359</td>\n",
       "      <td>0.44186</td>\n",
       "      <td>0.02568</td>\n",
       "      <td>13.0</td>\n",
       "      <td>0.0</td>\n",
       "      <td>0.0</td>\n",
       "      <td>7.0</td>\n",
       "      <td>23.9</td>\n",
       "      <td>0.0</td>\n",
       "      <td>20.0</td>\n",
       "      <td>...</td>\n",
       "      <td>23.9</td>\n",
       "      <td>0.0</td>\n",
       "      <td>-1.466667</td>\n",
       "      <td>0.0</td>\n",
       "      <td>0.884</td>\n",
       "      <td>0.476</td>\n",
       "      <td>1.360</td>\n",
       "      <td>0.044444</td>\n",
       "      <td>0.347858</td>\n",
       "      <td>8.305657</td>\n",
       "    </tr>\n",
       "  </tbody>\n",
       "</table>\n",
       "<p>2 rows × 21 columns</p>\n",
       "</div>"
      ],
      "text/plain": [
       "   Deg_centrality  closeness  Btwness  Passengers_In  Freight_In_tonnes  \\\n",
       "1        0.325359    0.44186  0.02568            6.0                0.0   \n",
       "2        0.325359    0.44186  0.02568           13.0                0.0   \n",
       "\n",
       "   Mail_In_tonnes  Passengers_Out  Freight_Out_tonnes  Mail_Out_tonnes  \\\n",
       "1             0.0            16.0                18.7              0.0   \n",
       "2             0.0             7.0                23.9              0.0   \n",
       "\n",
       "   Passengers_Total  ...  Freight_Total_tonnes  Freight_In_Out_prct  \\\n",
       "1              22.0  ...                  18.7                  0.0   \n",
       "2              20.0  ...                  23.9                  0.0   \n",
       "\n",
       "   Passengers_In_Out_prct  Mail_In_Out_prct  W_Passengers_In  \\\n",
       "1               -2.444444               0.0            0.408   \n",
       "2               -1.466667               0.0            0.884   \n",
       "\n",
       "   W_Passengers_Out  W_Passengers_Total  flights_total  Total_wt  \\\n",
       "1             1.088               1.496       0.048889  0.324436   \n",
       "2             0.476               1.360       0.044444  0.347858   \n",
       "\n",
       "   Avg_flight_wt  \n",
       "1       6.625618  \n",
       "2       8.305657  \n",
       "\n",
       "[2 rows x 21 columns]"
      ]
     },
     "execution_count": 6,
     "metadata": {},
     "output_type": "execute_result"
    }
   ],
   "source": [
    "airline.head(2)"
   ]
  },
  {
   "cell_type": "code",
   "execution_count": 7,
   "id": "5c2898c6-804a-43df-b006-bfb496a5b538",
   "metadata": {},
   "outputs": [],
   "source": [
    "airline_loged = airline.apply(np.log1p)\n",
    "airline_loged.replace((np.inf, -np.inf, np.nan), 0,inplace=True)"
   ]
  },
  {
   "cell_type": "code",
   "execution_count": 10,
   "id": "5371d72b-96f1-4666-a832-ffa151a6e27c",
   "metadata": {},
   "outputs": [
    {
     "data": {
      "text/html": [
       "<div>\n",
       "<style scoped>\n",
       "    .dataframe tbody tr th:only-of-type {\n",
       "        vertical-align: middle;\n",
       "    }\n",
       "\n",
       "    .dataframe tbody tr th {\n",
       "        vertical-align: top;\n",
       "    }\n",
       "\n",
       "    .dataframe thead th {\n",
       "        text-align: right;\n",
       "    }\n",
       "</style>\n",
       "<table border=\"1\" class=\"dataframe\">\n",
       "  <thead>\n",
       "    <tr style=\"text-align: right;\">\n",
       "      <th></th>\n",
       "      <th>Deg_centrality</th>\n",
       "      <th>closeness</th>\n",
       "      <th>Btwness</th>\n",
       "      <th>Passengers_In</th>\n",
       "      <th>Freight_In_tonnes</th>\n",
       "      <th>Mail_In_tonnes</th>\n",
       "      <th>Passengers_Out</th>\n",
       "      <th>Freight_Out_tonnes</th>\n",
       "      <th>Mail_Out_tonnes</th>\n",
       "      <th>Passengers_Total</th>\n",
       "      <th>...</th>\n",
       "      <th>Freight_Total_tonnes</th>\n",
       "      <th>Freight_In_Out_prct</th>\n",
       "      <th>Passengers_In_Out_prct</th>\n",
       "      <th>Mail_In_Out_prct</th>\n",
       "      <th>W_Passengers_In</th>\n",
       "      <th>W_Passengers_Out</th>\n",
       "      <th>W_Passengers_Total</th>\n",
       "      <th>flights_total</th>\n",
       "      <th>Total_wt</th>\n",
       "      <th>Avg_flight_wt</th>\n",
       "    </tr>\n",
       "  </thead>\n",
       "  <tbody>\n",
       "    <tr>\n",
       "      <th>1</th>\n",
       "      <td>0.281683</td>\n",
       "      <td>0.365934</td>\n",
       "      <td>0.025356</td>\n",
       "      <td>1.945910</td>\n",
       "      <td>0.0</td>\n",
       "      <td>0.0</td>\n",
       "      <td>2.833213</td>\n",
       "      <td>2.980619</td>\n",
       "      <td>0.0</td>\n",
       "      <td>3.135494</td>\n",
       "      <td>...</td>\n",
       "      <td>2.980619</td>\n",
       "      <td>0.0</td>\n",
       "      <td>0.0</td>\n",
       "      <td>0.0</td>\n",
       "      <td>0.342170</td>\n",
       "      <td>0.736207</td>\n",
       "      <td>0.914689</td>\n",
       "      <td>0.047731</td>\n",
       "      <td>0.280986</td>\n",
       "      <td>2.031513</td>\n",
       "    </tr>\n",
       "    <tr>\n",
       "      <th>2</th>\n",
       "      <td>0.281683</td>\n",
       "      <td>0.365934</td>\n",
       "      <td>0.025356</td>\n",
       "      <td>2.639057</td>\n",
       "      <td>0.0</td>\n",
       "      <td>0.0</td>\n",
       "      <td>2.079442</td>\n",
       "      <td>3.214868</td>\n",
       "      <td>0.0</td>\n",
       "      <td>3.044522</td>\n",
       "      <td>...</td>\n",
       "      <td>3.214868</td>\n",
       "      <td>0.0</td>\n",
       "      <td>0.0</td>\n",
       "      <td>0.0</td>\n",
       "      <td>0.633397</td>\n",
       "      <td>0.389336</td>\n",
       "      <td>0.858662</td>\n",
       "      <td>0.043485</td>\n",
       "      <td>0.298517</td>\n",
       "      <td>2.230623</td>\n",
       "    </tr>\n",
       "  </tbody>\n",
       "</table>\n",
       "<p>2 rows × 21 columns</p>\n",
       "</div>"
      ],
      "text/plain": [
       "   Deg_centrality  closeness   Btwness  Passengers_In  Freight_In_tonnes  \\\n",
       "1        0.281683   0.365934  0.025356       1.945910                0.0   \n",
       "2        0.281683   0.365934  0.025356       2.639057                0.0   \n",
       "\n",
       "   Mail_In_tonnes  Passengers_Out  Freight_Out_tonnes  Mail_Out_tonnes  \\\n",
       "1             0.0        2.833213            2.980619              0.0   \n",
       "2             0.0        2.079442            3.214868              0.0   \n",
       "\n",
       "   Passengers_Total  ...  Freight_Total_tonnes  Freight_In_Out_prct  \\\n",
       "1          3.135494  ...              2.980619                  0.0   \n",
       "2          3.044522  ...              3.214868                  0.0   \n",
       "\n",
       "   Passengers_In_Out_prct  Mail_In_Out_prct  W_Passengers_In  \\\n",
       "1                     0.0               0.0         0.342170   \n",
       "2                     0.0               0.0         0.633397   \n",
       "\n",
       "   W_Passengers_Out  W_Passengers_Total  flights_total  Total_wt  \\\n",
       "1          0.736207            0.914689       0.047731  0.280986   \n",
       "2          0.389336            0.858662       0.043485  0.298517   \n",
       "\n",
       "   Avg_flight_wt  \n",
       "1       2.031513  \n",
       "2       2.230623  \n",
       "\n",
       "[2 rows x 21 columns]"
      ]
     },
     "execution_count": 10,
     "metadata": {},
     "output_type": "execute_result"
    }
   ],
   "source": [
    "airline_loged.head(2)"
   ]
  },
  {
   "cell_type": "code",
   "execution_count": 11,
   "id": "a6b6b3f4-57f0-40b2-9402-3a84efe524e0",
   "metadata": {},
   "outputs": [],
   "source": [
    "Xtrain = airline_loged.drop(['Freight_Total_tonnes'],axis=1)\n",
    "\n",
    "Ytrain=airline_loged['Freight_Total_tonnes']"
   ]
  },
  {
   "cell_type": "code",
   "execution_count": 13,
   "id": "c6155d64-e43c-461a-af20-cf4043c13c93",
   "metadata": {},
   "outputs": [
    {
     "data": {
      "text/plain": [
       "(4492, 4492)"
      ]
     },
     "execution_count": 13,
     "metadata": {},
     "output_type": "execute_result"
    }
   ],
   "source": [
    "len(Xtrain),len(Ytrain)"
   ]
  },
  {
   "cell_type": "code",
   "execution_count": 15,
   "id": "245b03aa-56d5-438f-b967-743643e1710a",
   "metadata": {},
   "outputs": [
    {
     "name": "stdout",
     "output_type": "stream",
     "text": [
      "(3593, 20) (899, 20)\n"
     ]
    }
   ],
   "source": [
    "X_train,X_test,Y_train,Y_test = train_test_split(Xtrain,Ytrain,test_size=0.2,random_state=1200)\n",
    "print(X_train.shape , X_test.shape)"
   ]
  },
  {
   "cell_type": "code",
   "execution_count": 16,
   "id": "c7cce6e8-bed0-48dd-8342-12365d16645e",
   "metadata": {},
   "outputs": [],
   "source": [
    "sc = StandardScaler()\n",
    "X_train_norm = sc.fit_transform(X_train)\n",
    "X_test_norm = sc.transform(X_test)"
   ]
  },
  {
   "cell_type": "markdown",
   "id": "8a822291-1fa7-4f9a-9413-0ddd3397c5d4",
   "metadata": {},
   "source": [
    "# Model Training"
   ]
  },
  {
   "cell_type": "code",
   "execution_count": null,
   "id": "200524c7-8072-4484-b8f4-6345f8e0bba9",
   "metadata": {
    "tags": []
   },
   "outputs": [],
   "source": [
    "\n",
    "# Create the parameter grid based on the results of random search \n",
    "param_grid = {\n",
    "    'bootstrap': [True],\n",
    "    'max_depth': [80, 90, 100, 150],\n",
    "    'max_features': [5,8,16,13 ],\n",
    "    'min_samples_leaf': [3, 5, 7],\n",
    "    'min_samples_split': [8, 10, 12],\n",
    "    'n_estimators': [100, 800, 1500, 1000]\n",
    "}"
   ]
  },
  {
   "cell_type": "markdown",
   "id": "4c5d854f-322d-48ae-81c3-a584e8731165",
   "metadata": {},
   "source": [
    "\n",
    "# Create the parameter grid based on the results of random search \n",
    "param_grid = {\n",
    "    'bootstrap': [True],\n",
    "    'max_depth': [80, 90],\n",
    "    'max_features': [5,8 ],\n",
    "    'min_samples_leaf': [3, 4],\n",
    "    'min_samples_split': [8, 3],\n",
    "    'n_estimators': [100,50]\n",
    "}"
   ]
  },
  {
   "cell_type": "code",
   "execution_count": 18,
   "id": "e45aed42-91d9-43a1-8994-15e7ca4fbf44",
   "metadata": {},
   "outputs": [],
   "source": [
    "rf = RandomForestRegressor(random_state=106)"
   ]
  },
  {
   "cell_type": "code",
   "execution_count": 19,
   "id": "81a4c1dd-c8fe-483f-a29d-54644c03bf34",
   "metadata": {},
   "outputs": [],
   "source": [
    "# Instantiate the grid search model\n",
    "grid_search = GridSearchCV(estimator = rf, param_grid = param_grid, \n",
    "                          cv = 2, n_jobs = -1, verbose = 2)"
   ]
  },
  {
   "cell_type": "code",
   "execution_count": 21,
   "id": "a925f7b1-f489-4491-be88-0c3ec8560eff",
   "metadata": {},
   "outputs": [
    {
     "name": "stdout",
     "output_type": "stream",
     "text": [
      "Fitting 2 folds for each of 32 candidates, totalling 64 fits\n"
     ]
    },
    {
     "data": {
      "text/html": [
       "<style>#sk-container-id-1 {color: black;background-color: white;}#sk-container-id-1 pre{padding: 0;}#sk-container-id-1 div.sk-toggleable {background-color: white;}#sk-container-id-1 label.sk-toggleable__label {cursor: pointer;display: block;width: 100%;margin-bottom: 0;padding: 0.3em;box-sizing: border-box;text-align: center;}#sk-container-id-1 label.sk-toggleable__label-arrow:before {content: \"▸\";float: left;margin-right: 0.25em;color: #696969;}#sk-container-id-1 label.sk-toggleable__label-arrow:hover:before {color: black;}#sk-container-id-1 div.sk-estimator:hover label.sk-toggleable__label-arrow:before {color: black;}#sk-container-id-1 div.sk-toggleable__content {max-height: 0;max-width: 0;overflow: hidden;text-align: left;background-color: #f0f8ff;}#sk-container-id-1 div.sk-toggleable__content pre {margin: 0.2em;color: black;border-radius: 0.25em;background-color: #f0f8ff;}#sk-container-id-1 input.sk-toggleable__control:checked~div.sk-toggleable__content {max-height: 200px;max-width: 100%;overflow: auto;}#sk-container-id-1 input.sk-toggleable__control:checked~label.sk-toggleable__label-arrow:before {content: \"▾\";}#sk-container-id-1 div.sk-estimator input.sk-toggleable__control:checked~label.sk-toggleable__label {background-color: #d4ebff;}#sk-container-id-1 div.sk-label input.sk-toggleable__control:checked~label.sk-toggleable__label {background-color: #d4ebff;}#sk-container-id-1 input.sk-hidden--visually {border: 0;clip: rect(1px 1px 1px 1px);clip: rect(1px, 1px, 1px, 1px);height: 1px;margin: -1px;overflow: hidden;padding: 0;position: absolute;width: 1px;}#sk-container-id-1 div.sk-estimator {font-family: monospace;background-color: #f0f8ff;border: 1px dotted black;border-radius: 0.25em;box-sizing: border-box;margin-bottom: 0.5em;}#sk-container-id-1 div.sk-estimator:hover {background-color: #d4ebff;}#sk-container-id-1 div.sk-parallel-item::after {content: \"\";width: 100%;border-bottom: 1px solid gray;flex-grow: 1;}#sk-container-id-1 div.sk-label:hover label.sk-toggleable__label {background-color: #d4ebff;}#sk-container-id-1 div.sk-serial::before {content: \"\";position: absolute;border-left: 1px solid gray;box-sizing: border-box;top: 0;bottom: 0;left: 50%;z-index: 0;}#sk-container-id-1 div.sk-serial {display: flex;flex-direction: column;align-items: center;background-color: white;padding-right: 0.2em;padding-left: 0.2em;position: relative;}#sk-container-id-1 div.sk-item {position: relative;z-index: 1;}#sk-container-id-1 div.sk-parallel {display: flex;align-items: stretch;justify-content: center;background-color: white;position: relative;}#sk-container-id-1 div.sk-item::before, #sk-container-id-1 div.sk-parallel-item::before {content: \"\";position: absolute;border-left: 1px solid gray;box-sizing: border-box;top: 0;bottom: 0;left: 50%;z-index: -1;}#sk-container-id-1 div.sk-parallel-item {display: flex;flex-direction: column;z-index: 1;position: relative;background-color: white;}#sk-container-id-1 div.sk-parallel-item:first-child::after {align-self: flex-end;width: 50%;}#sk-container-id-1 div.sk-parallel-item:last-child::after {align-self: flex-start;width: 50%;}#sk-container-id-1 div.sk-parallel-item:only-child::after {width: 0;}#sk-container-id-1 div.sk-dashed-wrapped {border: 1px dashed gray;margin: 0 0.4em 0.5em 0.4em;box-sizing: border-box;padding-bottom: 0.4em;background-color: white;}#sk-container-id-1 div.sk-label label {font-family: monospace;font-weight: bold;display: inline-block;line-height: 1.2em;}#sk-container-id-1 div.sk-label-container {text-align: center;}#sk-container-id-1 div.sk-container {/* jupyter's `normalize.less` sets `[hidden] { display: none; }` but bootstrap.min.css set `[hidden] { display: none !important; }` so we also need the `!important` here to be able to override the default hidden behavior on the sphinx rendered scikit-learn.org. See: https://github.com/scikit-learn/scikit-learn/issues/21755 */display: inline-block !important;position: relative;}#sk-container-id-1 div.sk-text-repr-fallback {display: none;}</style><div id=\"sk-container-id-1\" class=\"sk-top-container\"><div class=\"sk-text-repr-fallback\"><pre>GridSearchCV(cv=2, estimator=RandomForestRegressor(random_state=106), n_jobs=-1,\n",
       "             param_grid={&#x27;bootstrap&#x27;: [True], &#x27;max_depth&#x27;: [80, 90],\n",
       "                         &#x27;max_features&#x27;: [5, 8], &#x27;min_samples_leaf&#x27;: [3, 4],\n",
       "                         &#x27;min_samples_split&#x27;: [8, 3],\n",
       "                         &#x27;n_estimators&#x27;: [100, 50]},\n",
       "             verbose=2)</pre><b>In a Jupyter environment, please rerun this cell to show the HTML representation or trust the notebook. <br />On GitHub, the HTML representation is unable to render, please try loading this page with nbviewer.org.</b></div><div class=\"sk-container\" hidden><div class=\"sk-item sk-dashed-wrapped\"><div class=\"sk-label-container\"><div class=\"sk-label sk-toggleable\"><input class=\"sk-toggleable__control sk-hidden--visually\" id=\"sk-estimator-id-1\" type=\"checkbox\" ><label for=\"sk-estimator-id-1\" class=\"sk-toggleable__label sk-toggleable__label-arrow\">GridSearchCV</label><div class=\"sk-toggleable__content\"><pre>GridSearchCV(cv=2, estimator=RandomForestRegressor(random_state=106), n_jobs=-1,\n",
       "             param_grid={&#x27;bootstrap&#x27;: [True], &#x27;max_depth&#x27;: [80, 90],\n",
       "                         &#x27;max_features&#x27;: [5, 8], &#x27;min_samples_leaf&#x27;: [3, 4],\n",
       "                         &#x27;min_samples_split&#x27;: [8, 3],\n",
       "                         &#x27;n_estimators&#x27;: [100, 50]},\n",
       "             verbose=2)</pre></div></div></div><div class=\"sk-parallel\"><div class=\"sk-parallel-item\"><div class=\"sk-item\"><div class=\"sk-label-container\"><div class=\"sk-label sk-toggleable\"><input class=\"sk-toggleable__control sk-hidden--visually\" id=\"sk-estimator-id-2\" type=\"checkbox\" ><label for=\"sk-estimator-id-2\" class=\"sk-toggleable__label sk-toggleable__label-arrow\">estimator: RandomForestRegressor</label><div class=\"sk-toggleable__content\"><pre>RandomForestRegressor(random_state=106)</pre></div></div></div><div class=\"sk-serial\"><div class=\"sk-item\"><div class=\"sk-estimator sk-toggleable\"><input class=\"sk-toggleable__control sk-hidden--visually\" id=\"sk-estimator-id-3\" type=\"checkbox\" ><label for=\"sk-estimator-id-3\" class=\"sk-toggleable__label sk-toggleable__label-arrow\">RandomForestRegressor</label><div class=\"sk-toggleable__content\"><pre>RandomForestRegressor(random_state=106)</pre></div></div></div></div></div></div></div></div></div></div>"
      ],
      "text/plain": [
       "GridSearchCV(cv=2, estimator=RandomForestRegressor(random_state=106), n_jobs=-1,\n",
       "             param_grid={'bootstrap': [True], 'max_depth': [80, 90],\n",
       "                         'max_features': [5, 8], 'min_samples_leaf': [3, 4],\n",
       "                         'min_samples_split': [8, 3],\n",
       "                         'n_estimators': [100, 50]},\n",
       "             verbose=2)"
      ]
     },
     "execution_count": 21,
     "metadata": {},
     "output_type": "execute_result"
    }
   ],
   "source": [
    "# Fit the grid search to the data\n",
    "grid_search.fit(X_train_norm, Y_train)"
   ]
  },
  {
   "cell_type": "code",
   "execution_count": 24,
   "id": "882a16cc-6eb5-4722-bba3-899845805365",
   "metadata": {},
   "outputs": [
    {
     "data": {
      "text/plain": [
       "899"
      ]
     },
     "execution_count": 24,
     "metadata": {},
     "output_type": "execute_result"
    }
   ],
   "source": [
    "len(Y_test)"
   ]
  },
  {
   "cell_type": "code",
   "execution_count": 23,
   "id": "517b92c3-bf28-45d3-a8e0-5c2c7510360e",
   "metadata": {},
   "outputs": [],
   "source": [
    "Y_test.replace((np.inf, -np.inf, np.nan), 0,inplace=True)"
   ]
  },
  {
   "cell_type": "code",
   "execution_count": 26,
   "id": "64b411c7-df71-4af5-b0e4-22383bba2929",
   "metadata": {},
   "outputs": [],
   "source": [
    "y_pred = grid_search.predict(X_test_norm)"
   ]
  },
  {
   "cell_type": "code",
   "execution_count": 28,
   "id": "ed153134-2515-46b0-93da-3342e71b340e",
   "metadata": {},
   "outputs": [],
   "source": [
    "mae = metrics.mean_absolute_error(Y_test, y_pred)\n",
    "mse = metrics.mean_squared_error(Y_test, y_pred)\n",
    "rmse = np.sqrt(mse) # or mse**(0.5)  \n",
    "r2 = metrics.r2_score(Y_test,y_pred)"
   ]
  },
  {
   "cell_type": "code",
   "execution_count": 31,
   "id": "009d2dcd-3fd4-4443-b01d-ca440c02339e",
   "metadata": {},
   "outputs": [],
   "source": [
    "result = pd.DataFrame.from_dict({'MAE':[mae],'MSE':[mse],'RMSE':[rmse],'R2squres':[r2]})"
   ]
  },
  {
   "cell_type": "code",
   "execution_count": 32,
   "id": "ef65ee2d-2179-479e-99ec-398377a30f92",
   "metadata": {},
   "outputs": [
    {
     "data": {
      "text/html": [
       "<div>\n",
       "<style scoped>\n",
       "    .dataframe tbody tr th:only-of-type {\n",
       "        vertical-align: middle;\n",
       "    }\n",
       "\n",
       "    .dataframe tbody tr th {\n",
       "        vertical-align: top;\n",
       "    }\n",
       "\n",
       "    .dataframe thead th {\n",
       "        text-align: right;\n",
       "    }\n",
       "</style>\n",
       "<table border=\"1\" class=\"dataframe\">\n",
       "  <thead>\n",
       "    <tr style=\"text-align: right;\">\n",
       "      <th></th>\n",
       "      <th>MAE</th>\n",
       "      <th>MSE</th>\n",
       "      <th>RMSE</th>\n",
       "      <th>R2squres</th>\n",
       "    </tr>\n",
       "  </thead>\n",
       "  <tbody>\n",
       "    <tr>\n",
       "      <th>0</th>\n",
       "      <td>0.055659</td>\n",
       "      <td>0.009667</td>\n",
       "      <td>0.098323</td>\n",
       "      <td>0.998231</td>\n",
       "    </tr>\n",
       "  </tbody>\n",
       "</table>\n",
       "</div>"
      ],
      "text/plain": [
       "        MAE       MSE      RMSE  R2squres\n",
       "0  0.055659  0.009667  0.098323  0.998231"
      ]
     },
     "execution_count": 32,
     "metadata": {},
     "output_type": "execute_result"
    }
   ],
   "source": [
    "result"
   ]
  },
  {
   "cell_type": "code",
   "execution_count": null,
   "id": "afb26114-73f5-4227-9699-a6f2e3feaaae",
   "metadata": {},
   "outputs": [],
   "source": [
    "if model_to_save is None or len(model_to_save) == 0 :\n",
    "    { print('No model to be saved')}\n",
    "else:\n",
    "    import pickle\n",
    "    artifactsDir = Helpers.getOrCreateArtifactsDir(context, artifactsId = model_to_save)\n",
    "    with open(artifactsDir + '/RF_cargo.pkl', 'wb') as handle:\n",
    "        pickle.dump(grid_search, handle)"
   ]
  },
  {
   "cell_type": "code",
   "execution_count": null,
   "id": "0831c422-45e5-45f0-9c8e-cf8651270943",
   "metadata": {},
   "outputs": [],
   "source": []
  },
  {
   "cell_type": "code",
   "execution_count": null,
   "id": "364c409f-f5a9-4293-bce0-39e7c8d092f5",
   "metadata": {},
   "outputs": [],
   "source": []
  },
  {
   "cell_type": "markdown",
   "id": "ac9cbea4-e7f0-408a-bc89-1491add9dd4f",
   "metadata": {},
   "source": [
    "filename = 'XGB_model_shap.sav'\n",
    "pickle.dump(model, open(filename, 'wb'))"
   ]
  },
  {
   "cell_type": "markdown",
   "id": "9074645e-2a49-44c5-8109-835bcfb6dcb9",
   "metadata": {},
   "source": [
    "result= pd.DataFrame(model.predict(X_test_norm))"
   ]
  },
  {
   "cell_type": "code",
   "execution_count": null,
   "id": "ab36f498-cf28-49a8-a838-f94dce0c206c",
   "metadata": {},
   "outputs": [],
   "source": [
    "outputCollection = Helpers.createOutputCollection(context)\n",
    "out = Helpers.createTemplateOutputDataset(context=context, outputName=outputDataset3, dataFrame=result)\n",
    "\n",
    "# out = Helpers.createTemplateOutputDataset(context=context, outputName=outputDataset3, dataFrame=Xtrain)\n",
    "# out2 = Helpers.createTemplateOutputDataset(context=context, outputName=outputDataset4, dataFrame=X_test_norm)\n",
    "# out3 = Helpers.createTemplateOutputDataset(context=context, outputName=outputDataset5, dataFrame=Y_train)\n",
    "# out4 = Helpers.createTemplateOutputDataset(context=context, outputName=outputDataset6, dataFrame=Y_test)\n",
    "outputCollection.addTemplateOutput(out)\n",
    "# outputCollection.addTemplateOutput(out2)\n",
    "# outputCollection.addTemplateOutput(out3)\n",
    "# outputCollection.addTemplateOutput(out4)\n",
    "Helpers.save(context)"
   ]
  },
  {
   "cell_type": "code",
   "execution_count": null,
   "id": "ba44f202-1ff0-43e2-8b22-419267623187",
   "metadata": {},
   "outputs": [],
   "source": []
  },
  {
   "cell_type": "code",
   "execution_count": null,
   "id": "12082c86-4b5d-40de-a03a-334a5101dcf8",
   "metadata": {},
   "outputs": [],
   "source": []
  },
  {
   "cell_type": "code",
   "execution_count": null,
   "id": "bff5955e-9049-49ee-a595-6edbc61a3bd5",
   "metadata": {},
   "outputs": [],
   "source": []
  },
  {
   "cell_type": "code",
   "execution_count": null,
   "id": "1bcab0bd-18ae-44b4-9e53-d8687e3350b2",
   "metadata": {},
   "outputs": [],
   "source": []
  },
  {
   "cell_type": "code",
   "execution_count": null,
   "id": "eb1b4d20-74c1-4cc0-a101-640ce82ed668",
   "metadata": {},
   "outputs": [],
   "source": []
  },
  {
   "cell_type": "code",
   "execution_count": null,
   "id": "c5bcb751-73e5-4e0a-b8cb-9bf4169c80a1",
   "metadata": {},
   "outputs": [],
   "source": []
  },
  {
   "cell_type": "code",
   "execution_count": null,
   "id": "6a8e50ad-9ae5-4fe3-925c-6f3c027789e5",
   "metadata": {},
   "outputs": [],
   "source": []
  },
  {
   "cell_type": "code",
   "execution_count": null,
   "id": "0c23601e-657b-49a5-a255-b69bea97389d",
   "metadata": {},
   "outputs": [],
   "source": []
  }
 ],
 "metadata": {
  "kernelspec": {
   "display_name": "Python 3 (ipykernel)",
   "language": "python",
   "name": "python3"
  },
  "language_info": {
   "codemirror_mode": {
    "name": "ipython",
    "version": 3
   },
   "file_extension": ".py",
   "mimetype": "text/x-python",
   "name": "python",
   "nbconvert_exporter": "python",
   "pygments_lexer": "ipython3",
   "version": "3.10.8"
  }
 },
 "nbformat": 4,
 "nbformat_minor": 5
}
