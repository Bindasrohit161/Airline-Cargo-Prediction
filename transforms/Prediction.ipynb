{
 "cells": [
  {
   "cell_type": "code",
   "execution_count": 22,
   "id": "1329a5f2-4924-4836-a173-99cfbc969880",
   "metadata": {},
   "outputs": [],
   "source": [
    "import pandas as pd\n",
    "from utils.notebookhelpers.helpers import Helpers\n",
    "from utils.dtos.templateOutputCollection import TemplateOutputCollection\n",
    "from utils.dtos.variable import Metadata\n",
    "from utils.dtos.templateOutput import TemplateOutput\n",
    "from utils.dtos.templateOutput import OutputType\n",
    "from utils.dtos.templateOutput import ChartType\n",
    "import pandas as pd\n",
    "import pickle\n",
    "import numpy as np\n",
    "# !pip install scikit-learn\n",
    "# import plotly.express as px\n",
    "from sklearn.model_selection import GridSearchCV,KFold\n",
    "from sklearn.model_selection import RandomizedSearchCV\n",
    "from sklearn.calibration import CalibratedClassifierCV\n",
    "from sklearn.metrics import  f1_score, roc_auc_score, confusion_matrix\n",
    "# from shaphypetune import BoostSearch, BoostBoruta, BoostRFE, BoostRFA\n",
    "from sklearn.metrics import roc_auc_score\n",
    "from scipy import stats\n",
    "# from xgboost import XGBClassifier\n",
    "from sklearn.preprocessing import StandardScaler\n",
    "\n",
    "##Pycaret\n",
    "# import jinja2\n",
    "# from pycaret.classification import *\n",
    "import pickle\n",
    "import copy\n",
    "import numpy as np\n",
    "pd.set_option('display.max_rows', 500000)\n",
    "pd.set_option('display.max_columns', 50000)\n",
    "pd.set_option('display.width', 10000)"
   ]
  },
  {
   "cell_type": "code",
   "execution_count": 4,
   "id": "fce65c38-9bfc-4d31-b573-fe5cabd98d54",
   "metadata": {},
   "outputs": [],
   "source": [
    "#Getting the context\n",
    "contextId = 'Airline_cargo'\n",
    "context = Helpers.getOrCreateContext(contextId=contextId, localVars=locals())\n",
    "\n",
    "inputDatasetParameter=Helpers.get_or_create_input_dataset(\n",
    "    name=\"inputDataset3\",\n",
    "    metadata=Metadata(input_name='Clustered data', is_required=True, tooltip='output transformation'),\n",
    "    local_context=locals()\n",
    ")\n",
    "\n",
    "\n",
    "\n",
    "\n",
    "\n",
    "Passengers_In_Parameter = Helpers.get_or_create_input_var(\n",
    "    name=\"Passengers_In\",\n",
    "    metadata=Metadata(input_name=\"Passengers_In\", is_required=True, tooltip=\"All Passengers_In\", multiple=False, datatypes=['STRING'],options=['FIELDS', 'CONSTANT'], datasets=['inputDataset']),\n",
    "    local_context=locals()\n",
    ")\n",
    "\n",
    "\n",
    "Freight_In_tonnes_Parameter = Helpers.get_or_create_input_var(\n",
    "    name=\"Freight_In_tonnes\",\n",
    "    metadata=Metadata(input_name=\"Freight_In_tonnes\", is_required=True, tooltip=\"Freight_In_(tonnes)\", multiple=False, options=['FIELDS', 'CONSTANT'], datasets=['inputDataset']),\n",
    "    local_context=locals()\n",
    ")\n",
    "\n",
    "\n",
    "Mail_In_tonnes_Parameter = Helpers.get_or_create_input_var(\n",
    "    name=\"Mail_In_tonnes\",\n",
    "    metadata=Metadata(input_name=\"Mail_In_tonnes\", is_required=True, tooltip=\"All Departures_On_Time\", multiple=False, options=['FIELDS', 'CONSTANT'], datasets=['inputDataset']),\n",
    "    local_context=locals()\n",
    ")\n",
    "\n",
    "\n",
    "Passengers_Out_Parameter = Helpers.get_or_create_input_var(\n",
    "    name=\"Passengers_Out\",\n",
    "    metadata=Metadata(input_name=\"Passengers_Out\", is_required=True, tooltip=\"All Departures_On_Time\", multiple=False, options=['FIELDS', 'CONSTANT'], datasets=['inputDataset']),\n",
    "    local_context=locals()\n",
    ")\n",
    "\n",
    "\n",
    "\n",
    "Freight_Out_tonnes_Parameter = Helpers.get_or_create_input_var(\n",
    "    name=\"Freight_Out_tonnes\",\n",
    "    metadata=Metadata(input_name=\"Freight_Out_tonnes\", is_required=True, tooltip=\"All Departures_On_Time\", multiple=False, options=['FIELDS', 'CONSTANT'], datasets=['inputDataset']),\n",
    "    local_context=locals()\n",
    ")\n",
    "\n",
    "Mail_Out_tonnes_Parameter = Helpers.get_or_create_input_var(\n",
    "    name=\"Mail_Out_tonnes\",\n",
    "    metadata=Metadata(input_name=\"Mail_Out_tonnes\", is_required=True, tooltip=\"All Departures_On_Time\", multiple=False, options=['FIELDS', 'CONSTANT'], datasets=['inputDataset']),\n",
    "    local_context=locals()\n",
    ")\n",
    "\n",
    "Passengers_Total_Parameter = Helpers.get_or_create_input_var(\n",
    "    name=\"Passengers_Total\",\n",
    "    metadata=Metadata(input_name=\"Passengers_Total\", is_required=True, tooltip=\"All Departures_On_Time\", multiple=False, options=['FIELDS', 'CONSTANT'], datasets=['inputDataset']),\n",
    "    local_context=locals()\n",
    ")\n",
    "\n",
    "\n",
    "\n",
    "Freight_Total_tonnes_Parameter = Helpers.get_or_create_input_var(\n",
    "    name=\"Freight_Total_tonnes\",\n",
    "    metadata=Metadata(input_name=\"Freight_Total_tonnes\", is_required=True, tooltip=\"All Departures_On_Time\", multiple=False, options=['FIELDS', 'CONSTANT'], datasets=['inputDataset']),\n",
    "    local_context=locals()\n",
    ")\n",
    "\n",
    "\n",
    "\n",
    "Mail_Total_tonnes_Parameter = Helpers.get_or_create_input_var(\n",
    "    name=\"Mail_Total_tonnes\",\n",
    "    metadata=Metadata(input_name=\"Mail_Total_tonnes\", is_required=True, tooltip=\"All Departures_On_Time\", multiple=False, options=['FIELDS', 'CONSTANT'], datasets=['inputDataset']),\n",
    "    local_context=locals()\n",
    ")\n",
    "\n",
    "\n",
    "\n",
    "\n",
    "Btwness_Parameter = Helpers.get_or_create_input_var(\n",
    "    name=\"Btwness\",\n",
    "    metadata=Metadata(input_name=\"Btwness\", is_required=True, tooltip=\"Output column\", multiple=False,\n",
    "),\n",
    "    local_context=locals()\n",
    ")\n",
    "\n",
    "\n",
    "closeness_Parameter = Helpers.get_or_create_input_var(\n",
    "    name=\"closeness\",\n",
    "    metadata=Metadata(input_name=\"closeness\", is_required=True, tooltip=\"Output column\", multiple=False, \n",
    "),\n",
    "    local_context=locals()\n",
    ") \n",
    "\n",
    "\n",
    "Deg_centrality_Parameter = Helpers.get_or_create_input_var(\n",
    "    name=\"Deg_centrality\",\n",
    "    metadata=Metadata(input_name=\"Deg_centrality\", is_required=True, tooltip=\"Output column\", multiple=False, \n",
    "),\n",
    "    local_context=locals()\n",
    ") \n",
    "\n",
    "Freight_In_Out_prct_Parameter = Helpers.get_or_create_input_var(\n",
    "    name=\"Freight_In_Out_prct\",\n",
    "    metadata=Metadata(input_name=\"Freight_In_Out_prct\", is_required=True, tooltip=\"Output column\", multiple=False, \n",
    "),\n",
    "    local_context=locals()\n",
    ") \n",
    "\n",
    "\n",
    "\n",
    "Passengers_In_Out_prct_Parameter = Helpers.get_or_create_input_var(\n",
    "    name=\"Passengers_In_Out_prct\",\n",
    "    metadata=Metadata(input_name=\"Passengers_In_Out_prct\", is_required=True, tooltip=\"Output column\", multiple=False, \n",
    "),\n",
    "    local_context=locals()\n",
    ") \n",
    "\n",
    "\n",
    "Mail_In_Out_prct_Parameter = Helpers.get_or_create_input_var(\n",
    "    name=\"Mail_In_Out_prct\",\n",
    "    metadata=Metadata(input_name=\"Mail_In_Out_prct\", is_required=True, tooltip=\"Output column\", multiple=False, \n",
    "),\n",
    "    local_context=locals()\n",
    ") \n",
    "\n",
    "\n",
    "\n",
    "W_Passengers_In_Parameter = Helpers.get_or_create_input_var(\n",
    "    name=\"W_Passengers_In\",\n",
    "    metadata=Metadata(input_name=\"W_Passengers_In\", is_required=True, tooltip=\"Output column\", multiple=False, \n",
    "),\n",
    "    local_context=locals()\n",
    ") \n",
    "\n",
    "\n",
    "W_Passengers_Out_Parameter = Helpers.get_or_create_input_var(\n",
    "    name=\"W_Passengers_Out\",\n",
    "    metadata=Metadata(input_name=\"W_Passengers_Out\", is_required=True, tooltip=\"Output column\", multiple=False, \n",
    "),\n",
    "    local_context=locals()\n",
    ") \n",
    "\n",
    "\n",
    "W_Passengers_Total_Parameter = Helpers.get_or_create_input_var(\n",
    "    name=\"W_Passengers_Total\",\n",
    "    metadata=Metadata(input_name=\"W_Passengers_Total\", is_required=True, tooltip=\"Output column\", multiple=False, \n",
    "),\n",
    "    local_context=locals()\n",
    ") \n",
    "\n",
    "\n",
    "flights_total_Parameter = Helpers.get_or_create_input_var(\n",
    "    name=\"flights_total\",\n",
    "    metadata=Metadata(input_name=\"flights_total\", is_required=True, tooltip=\"Output column\", multiple=False, \n",
    "),\n",
    "    local_context=locals()\n",
    ") \n",
    "\n",
    "Total_wt_Parameter = Helpers.get_or_create_input_var(\n",
    "    name=\"Total_wt\",\n",
    "    metadata=Metadata(input_name=\"Total_wt\", is_required=True, tooltip=\"Output column\", multiple=False, \n",
    "),\n",
    "    local_context=locals()\n",
    ") \n",
    "\n",
    "Avg_flight_wt_Parameter = Helpers.get_or_create_input_var(\n",
    "    name=\"Avg_flight_wt\",\n",
    "    metadata=Metadata(input_name=\"Avg_flight_wt\", is_required=True, tooltip=\"Output column\", multiple=False, \n",
    "),\n",
    "    local_context=locals()\n",
    ") \n",
    "\n",
    "\n",
    "\n",
    "\n",
    "\n",
    "outputDatasetParameter=Helpers.get_or_create_output_dataset(\n",
    " name=\"outputDataset3\",\n",
    "    metadata=Metadata(input_name='Xtrain', is_required=True, tooltip='Dataset name to be created after the transformation'),\n",
    "    local_context=locals()\n",
    ")\n",
    "\n",
    "\n",
    "#Model Save\n",
    "modelNameParameter=Helpers.get_or_create_input_var(\n",
    "    name=\"modelName\",\n",
    "    metadata=Metadata(input_name=\"Published Model Name\", is_required=True, tooltip=\"Type the model name that you have saved\", multiple=False, datatypes=['STRING'], options=['CONSTANT']),\n",
    "    local_context=locals()\n",
    ")"
   ]
  },
  {
   "cell_type": "code",
   "execution_count": 5,
   "id": "f2be0567-de57-44a7-a83d-2f3b0bac0362",
   "metadata": {},
   "outputs": [],
   "source": [
    "#Getting the parameters\n",
    "airline_val=inputDatasetParameter.value\n",
    "\n",
    "\n",
    "Passengers_In=    Passengers_In_Parameter.value\n",
    "Freight_In_tonnes=    Freight_In_tonnes_Parameter.value\n",
    "Mail_In_tonnes = Mail_In_tonnes_Parameter.value\n",
    "Passengers_Out = Passengers_Out_Parameter.value\n",
    "\n",
    "\n",
    "Freight_Out_tonnes = Freight_Out_tonnes_Parameter.value\n",
    "Mail_Out_tonnes=Mail_Out_tonnes_Parameter.value\n",
    "Freight_Total_tonnes =  Freight_Total_tonnes_Parameter.value\n",
    "\n",
    "Passengers_Total = Passengers_Total_Parameter.value\n",
    "Mail_Total_tonnes = Mail_Total_tonnes_Parameter.value\n",
    "\n",
    "Btwness = Btwness_Parameter.value\n",
    "closeness = closeness_Parameter.value\n",
    "Deg_centrality = Deg_centrality_Parameter.value\n",
    "\n",
    "Freight_In_Out_prct =     Freight_In_Out_prct_Parameter.value\n",
    "Passengers_In_Out_prct=    Passengers_In_Out_prct_Parameter.value\n",
    "Mail_In_Out_prct =    Mail_In_Out_prct_Parameter.value\n",
    "W_Passengers_In=    W_Passengers_In_Parameter.value\n",
    "W_Passengers_Out =    W_Passengers_Out_Parameter.value\n",
    "W_Passengers_Total =    W_Passengers_Total_Parameter.value\n",
    "flights_total=    flights_total_Parameter.value\n",
    "Total_wt =    Total_wt_Parameter.value\n",
    "Avg_flight_wt =    Avg_flight_wt_Parameter.value\n",
    "\n",
    "\n",
    "\n",
    "\n",
    "outputDataset3=outputDatasetParameter.value\n",
    "\n",
    "modelName=modelNameParameter.value"
   ]
  },
  {
   "cell_type": "code",
   "execution_count": 29,
   "id": "cfc9d508-fb95-42cb-8f1d-7a77168007d9",
   "metadata": {},
   "outputs": [],
   "source": [
    "df = Helpers.getEntityData(context,airline_val)\n"
   ]
  },
  {
   "cell_type": "code",
   "execution_count": 33,
   "id": "8616463b-e23b-4202-9f04-95f435f2f326",
   "metadata": {},
   "outputs": [],
   "source": [
    "df = df.shift(periods=1).reset_index(drop=True)"
   ]
  },
  {
   "cell_type": "markdown",
   "id": "58972214-4838-4d69-a513-974039021c91",
   "metadata": {},
   "source": [
    "df.head(5)"
   ]
  },
  {
   "cell_type": "markdown",
   "id": "13d0bde2-a09b-43c0-a112-2aecd88a4f12",
   "metadata": {},
   "source": [
    "df.head(5)"
   ]
  },
  {
   "cell_type": "code",
   "execution_count": 16,
   "id": "ecd3eb68-b45d-4b77-af41-26cac6afd22d",
   "metadata": {},
   "outputs": [],
   "source": [
    "df_loged = df.copy()"
   ]
  },
  {
   "cell_type": "code",
   "execution_count": 17,
   "id": "824573b9-5553-4a06-871e-2766138c3eee",
   "metadata": {},
   "outputs": [],
   "source": [
    "df_loged = df_loged.drop('Freight_Total_tonnes',axis = 1)"
   ]
  },
  {
   "cell_type": "code",
   "execution_count": 8,
   "id": "56839b68-c8af-49d8-abbc-177439a11e97",
   "metadata": {},
   "outputs": [],
   "source": [
    "df_loged = df_loged.apply(np.log1p)\n",
    "df_loged.replace((np.inf, -np.inf, np.nan), 0,inplace=True)"
   ]
  },
  {
   "cell_type": "code",
   "execution_count": 9,
   "id": "65abfb11-6cf2-49f3-be67-e8df912497d8",
   "metadata": {},
   "outputs": [],
   "source": [
    "sc = StandardScaler()\n",
    "val = sc.fit_transform(df_loged)\n",
    "# X_test_norm = sc.transform(X_test)"
   ]
  },
  {
   "cell_type": "code",
   "execution_count": 10,
   "id": "9dd3592e-6282-43ce-9a44-79ed1b5146d3",
   "metadata": {},
   "outputs": [
    {
     "data": {
      "text/plain": [
       "array([[-0.72472214, -0.83095984, -1.02964581, -1.47402348, -0.92924211,\n",
       "        -0.5733231 , -1.89698411, -1.03612448, -0.58475379, -1.72487829,\n",
       "        -0.68419414, -1.10451322,  0.        ,  1.20680709,  0.11664113,\n",
       "        -1.45347415, -1.52848135, -1.61398109, -1.15135259, -1.36944731,\n",
       "        -2.02995566],\n",
       "       [-0.72472214, -0.83095984, -1.02964581, -0.86506863, -1.02461351,\n",
       "        -0.5733231 , -1.89698411, -0.0656755 , -0.58475379, -1.10648105,\n",
       "        -0.68419414, -0.29678613,  0.        ,  1.36304093,  0.11664113,\n",
       "        -1.10835067, -1.52848135, -1.28335398, -1.11975313, -1.33123851,\n",
       "        -0.96841888],\n",
       "       [-0.72472214, -0.83095984, -1.02964581, -1.40766375, -1.02461351,\n",
       "        -0.5733231 , -1.89698411, -1.03612448, -0.58475379, -1.65748959,\n",
       "        -0.68419414, -1.19506418,  0.        ,  1.26443538,  0.11664113,\n",
       "        -1.43300201, -1.52848135, -1.59436884, -1.15014903, -1.36965169,\n",
       "        -2.16153576],\n",
       "       [-0.72472214, -0.83095984, -1.02964581, -0.95383621, -1.02461351,\n",
       "        -0.5733231 , -1.89698411, -1.03612448, -0.58475379, -1.19662506,\n",
       "        -0.68419414, -1.19506418,  0.        ,  1.43500656,  0.11664113,\n",
       "        -1.18181939, -1.52848135, -1.35373676, -1.12892672, -1.35482117,\n",
       "        -1.65186451],\n",
       "       [-0.72472214, -0.83095984, -1.02964581, -0.8849017 , -1.02461351,\n",
       "        -0.5733231 , -1.89698411, -1.03612448, -0.58475379, -1.12662165,\n",
       "        -0.68419414, -1.19506418,  0.        ,  1.44439038,  0.11664113,\n",
       "        -1.12540489, -1.52848135, -1.29969186, -1.12203211, -1.34582003,\n",
       "        -1.5412421 ]])"
      ]
     },
     "execution_count": 10,
     "metadata": {},
     "output_type": "execute_result"
    }
   ],
   "source": [
    "val[:5]"
   ]
  },
  {
   "cell_type": "markdown",
   "id": "09f139a5-b8e0-475b-a4c4-d267817cec8d",
   "metadata": {},
   "source": [
    " Helpers.downloadArtifacts(context, modelName)"
   ]
  },
  {
   "cell_type": "code",
   "execution_count": 11,
   "id": "5af115de-3630-48d1-ba3d-63375afb3241",
   "metadata": {},
   "outputs": [
    {
     "name": "stdout",
     "output_type": "stream",
     "text": [
      "downloading artifacts from gs://rapidcanvas-platform-data-local/tenant-test-tenant/artifacts/RF_cargo/ to /tmp/rc/temp/tenant-test-tenant/artifacts/RF_cargo/\n"
     ]
    },
    {
     "name": "stderr",
     "output_type": "stream",
     "text": [
      "_request non-retriable exception: Anonymous caller does not have storage.objects.list access to the Google Cloud Storage bucket. Permission 'storage.objects.list' denied on resource (or it may not exist)., 401\n",
      "Traceback (most recent call last):\n",
      "  File \"/opt/conda/lib/python3.10/site-packages/gcsfs/retry.py\", line 115, in retry_request\n",
      "    return await func(*args, **kwargs)\n",
      "  File \"/opt/conda/lib/python3.10/site-packages/gcsfs/core.py\", line 384, in _request\n",
      "    validate_response(status, contents, path, args)\n",
      "  File \"/opt/conda/lib/python3.10/site-packages/gcsfs/retry.py\", line 102, in validate_response\n",
      "    raise HttpError(error)\n",
      "gcsfs.retry.HttpError: Anonymous caller does not have storage.objects.list access to the Google Cloud Storage bucket. Permission 'storage.objects.list' denied on resource (or it may not exist)., 401\n"
     ]
    },
    {
     "ename": "KeyError",
     "evalue": "'RF_cargo.pkl'",
     "output_type": "error",
     "traceback": [
      "\u001b[0;31m---------------------------------------------------------------------------\u001b[0m",
      "\u001b[0;31mKeyError\u001b[0m                                  Traceback (most recent call last)",
      "Cell \u001b[0;32mIn [11], line 2\u001b[0m\n\u001b[1;32m      1\u001b[0m filesDict \u001b[38;5;241m=\u001b[39m Helpers\u001b[38;5;241m.\u001b[39mdownloadArtifacts(context, modelName)\n\u001b[0;32m----> 2\u001b[0m rf_clf \u001b[38;5;241m=\u001b[39m pickle\u001b[38;5;241m.\u001b[39mload(\u001b[38;5;28mopen\u001b[39m(\u001b[43mfilesDict\u001b[49m\u001b[43m[\u001b[49m\u001b[38;5;124;43m\"\u001b[39;49m\u001b[38;5;124;43mRF_cargo.pkl\u001b[39;49m\u001b[38;5;124;43m\"\u001b[39;49m\u001b[43m]\u001b[49m, \u001b[38;5;124m'\u001b[39m\u001b[38;5;124mrb\u001b[39m\u001b[38;5;124m'\u001b[39m))\n",
      "\u001b[0;31mKeyError\u001b[0m: 'RF_cargo.pkl'"
     ]
    }
   ],
   "source": [
    "filesDict = Helpers.downloadArtifacts(context, modelName)\n",
    "rf_clf = pickle.load(open(filesDict[\"RF_cargo.pkl\"], 'rb'))"
   ]
  },
  {
   "cell_type": "code",
   "execution_count": 31,
   "id": "968e7dff-c3bf-42e1-9b1e-b5b76e98e60c",
   "metadata": {},
   "outputs": [
    {
     "data": {
      "text/plain": [
       "1587"
      ]
     },
     "execution_count": 31,
     "metadata": {},
     "output_type": "execute_result"
    }
   ],
   "source": [
    "len(df)"
   ]
  },
  {
   "cell_type": "markdown",
   "id": "2d8e3e83-97b5-483a-b114-7a747821af5b",
   "metadata": {},
   "source": [
    "df2.head(20)"
   ]
  },
  {
   "cell_type": "markdown",
   "id": "8798b8f0-c8e8-4f99-ad99-2f44f0e441fd",
   "metadata": {},
   "source": [
    "df.head()"
   ]
  },
  {
   "cell_type": "code",
   "execution_count": 25,
   "id": "26e86b34-6ed1-498c-b8ef-530407d0da9e",
   "metadata": {},
   "outputs": [],
   "source": [
    "df2 = df.copy()"
   ]
  },
  {
   "cell_type": "code",
   "execution_count": null,
   "id": "4ae518f8-b8cd-46a0-b365-80a2a3e994bb",
   "metadata": {},
   "outputs": [],
   "source": [
    "df2['predicted'] = rf_clf.predict(val)"
   ]
  },
  {
   "cell_type": "code",
   "execution_count": null,
   "id": "f28ae624-f133-45e2-a08e-c5ed8b49591a",
   "metadata": {},
   "outputs": [],
   "source": [
    "df2 = np.expm1(df2)"
   ]
  },
  {
   "cell_type": "code",
   "execution_count": null,
   "id": "4372569c-b45e-4540-a14a-dd0295120e9b",
   "metadata": {},
   "outputs": [],
   "source": [
    "outputCollection = Helpers.createOutputCollection(context)\n",
    "out = Helpers.createTemplateOutputDataset(context=context, outputName=outputDataset3, dataFrame=df2)\n",
    "\n",
    "# out = Helpers.createTemplateOutputDataset(context=context, outputName=outputDataset3, dataFrame=Xtrain)\n",
    "# out2 = Helpers.createTemplateOutputDataset(context=context, outputName=outputDataset4, dataFrame=X_test_norm)\n",
    "# out3 = Helpers.createTemplateOutputDataset(context=context, outputName=outputDataset5, dataFrame=Y_train)\n",
    "# out4 = Helpers.createTemplateOutputDataset(context=context, outputName=outputDataset6, dataFrame=Y_test)\n",
    "outputCollection.addTemplateOutput(out)\n",
    "# outputCollection.addTemplateOutput(out2)\n",
    "# outputCollection.addTemplateOutput(out3)\n",
    "# outputCollection.addTemplateOutput(out4)\n",
    "Helpers.save(context)"
   ]
  },
  {
   "cell_type": "code",
   "execution_count": null,
   "id": "d3b65cba-5f10-4d11-ac7c-f01a272ce62e",
   "metadata": {},
   "outputs": [],
   "source": []
  },
  {
   "cell_type": "code",
   "execution_count": null,
   "id": "8bb51e4d-aace-4285-ac8b-ca16fa94a9f5",
   "metadata": {},
   "outputs": [],
   "source": []
  },
  {
   "cell_type": "code",
   "execution_count": null,
   "id": "6abb319e-801e-41b3-8c07-88860f92a94d",
   "metadata": {},
   "outputs": [],
   "source": []
  },
  {
   "cell_type": "code",
   "execution_count": null,
   "id": "bcb9931c-c76b-42c1-9f58-e9038b063072",
   "metadata": {},
   "outputs": [],
   "source": []
  },
  {
   "cell_type": "code",
   "execution_count": null,
   "id": "989a5cbd-0e9f-4758-a844-ce1d92898a7f",
   "metadata": {},
   "outputs": [],
   "source": []
  },
  {
   "cell_type": "code",
   "execution_count": null,
   "id": "924f9c59-a149-4f8b-92a1-6c4b8de23e87",
   "metadata": {},
   "outputs": [],
   "source": []
  },
  {
   "cell_type": "code",
   "execution_count": null,
   "id": "830262e4-b13e-4117-9774-9377cafc858a",
   "metadata": {},
   "outputs": [],
   "source": []
  }
 ],
 "metadata": {
  "kernelspec": {
   "display_name": "Python 3 (ipykernel)",
   "language": "python",
   "name": "python3"
  },
  "language_info": {
   "codemirror_mode": {
    "name": "ipython",
    "version": 3
   },
   "file_extension": ".py",
   "mimetype": "text/x-python",
   "name": "python",
   "nbconvert_exporter": "python",
   "pygments_lexer": "ipython3",
   "version": "3.10.8"
  }
 },
 "nbformat": 4,
 "nbformat_minor": 5
}
